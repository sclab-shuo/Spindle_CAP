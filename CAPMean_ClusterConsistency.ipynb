{
 "cells": [
  {
   "cell_type": "code",
   "execution_count": 2,
   "metadata": {},
   "outputs": [
    {
     "name": "stdout",
     "output_type": "stream",
     "text": [
      "  - Loading the big matrix, no hurries...\n",
      " \n",
      "++++++++++++++++++++++++++++++++++++++++++++++++++++++++++++++++++++++++++++++++\n",
      "  - consistency for cluster 0 is :  0.4688923543283827\n",
      "  - consistency for cluster 1 is :  0.23918914845157313\n",
      "  - consistency for cluster 2 is :  0.43120749884259824\n",
      "  - consistency for cluster 3 is :  0.18647090454532758\n",
      "  - consistency for cluster 4 is :  0.2365969603879457\n",
      "  - consistency for cluster 5 is :  0.2309698526662443\n"
     ]
    }
   ],
   "source": [
    "import os\n",
    "import re\n",
    "import glob as gb\n",
    "import pandas as pd\n",
    "import numpy as np\n",
    "import random\n",
    "from nilearn.input_data import NiftiMasker\n",
    "from scipy import stats\n",
    "\n",
    "dir_root = '/Volumes/JDlab_Shuo/CoRe'\n",
    "newfolder =  dir_root + '/Spindle_CAP/N20_informed_N11'\n",
    "\n",
    "fmri_mat_name = dir_root + '/Spindle_CAP/fmri_all_selected_N11.csv'\n",
    "load_fmri_mat = 1\n",
    "save_data_cstcy = 1\n",
    "\n",
    "if load_fmri_mat == 1: # just used existed matrix that already underwent the TR extraction steps.\n",
    "    print('  - Loading the big matrix, no hurries...')\n",
    "    fmri_all_selected = np.loadtxt(fmri_mat_name, delimiter=',')\n",
    "    print(' ')\n",
    "    print(80 * '+')\n",
    "    \n",
    "sample_table = pd.read_csv(dir_root + '/Spindle_CAP/SpindleTR_SampleSize_N11.csv', delimiter='\\t')\n",
    "cap_label = pd.read_csv(newfolder + '/labels_cluster=6.csv', names=['Labels'],  header=None, delimiter=' ')    \n",
    "  \n",
    "    \n",
    "    \n",
    "masklist = []\n",
    "for dr in os.listdir(dir_root + '/Analysis_cabinet/ROIs_mask/'):\n",
    "    if dr == 'mnit1_09c_3mm_mask.nii': #\n",
    "        masklist.append(dr)\n",
    "mask_filename = dir_root + '/Analysis_cabinet/ROIs_mask/'+ masklist[0]   \n",
    "\n",
    "fmri_example = '/Volumes/JDlab_Shuo/CoRe/MRI_PreP/CoRe_001/D1/12-sleep/CoRe_001_D1_sleep_MDsCoNr%mniNLS.nii.gz'\n",
    "spatial_mask = NiftiMasker(mask_img=mask_filename, standardize=True)\n",
    "fmri_masked = spatial_mask.fit_transform(fmri_example)\n",
    "\n",
    "\n",
    "\n",
    "n_clusters = len(np.unique(cap_label))\n",
    "df_samples = pd.DataFrame(np.zeros((n_clusters, 1)),\n",
    "                   columns=['Consistency'])\n",
    "    \n",
    "for cc in range(0, len(np.unique(cap_label))):\n",
    "\n",
    "    cc_index = np.where(cap_label.Labels == cc)\n",
    "    fmri_cc_selected = fmri_all_selected[cc_index[0]]\n",
    "    \n",
    "    cc_mean = np.mean(fmri_cc_selected, 0)\n",
    "    cc_se = stats.sem(fmri_cc_selected, 0) \n",
    "    cc_z = cc_mean/cc_se\n",
    "    \n",
    "    cc_img = spatial_mask.inverse_transform(cc_z)\n",
    "    cc_img.to_filename(newfolder + '/cluster=%d_cc%d_Zmap.nii.gz' % (n_clusters, cc))\n",
    "    \n",
    "    corr_sum = 0\n",
    "    for tr in range(0, len(cc_index[0])):\n",
    "        \n",
    "        corr_temp, _ = stats.pearsonr(cc_mean, fmri_cc_selected[tr])\n",
    "        corr_sum = corr_sum + corr_temp\n",
    " \n",
    "\n",
    "\n",
    "    corr_mean = corr_sum/len(cc_index[0])     \n",
    "    df_samples.Consistency[cc] = corr_mean\n",
    "\n",
    "    print('  - consistency for cluster %d is : ' % cc, corr_mean)\n",
    "\n",
    "    \n",
    "# save out consistency info   \n",
    "if save_data_cstcy == 1:                \n",
    "    name2give = newfolder + '/Consistency_cluster='+ str(n_clusters)+ '.csv' \n",
    "    if os.path.isfile(name2give):\n",
    "        os.remove(name2give)\n",
    "    df_samples.to_csv(name2give, sep='\\t') "
   ]
  },
  {
   "cell_type": "code",
   "execution_count": 4,
   "metadata": {},
   "outputs": [
    {
     "data": {
      "text/plain": [
       "32.400000000000006"
      ]
     },
     "execution_count": 4,
     "metadata": {},
     "output_type": "execute_result"
    }
   ],
   "source": [
    "\n",
    "# df_samples.Consistency[0]\n",
    "\n",
    "2.16*15"
   ]
  },
  {
   "cell_type": "code",
   "execution_count": 108,
   "metadata": {},
   "outputs": [],
   "source": [
    "ttt= np.corrcoef(cc_mean, fmri_cc_selected)"
   ]
  },
  {
   "cell_type": "code",
   "execution_count": 68,
   "metadata": {},
   "outputs": [],
   "source": [
    "cc=2\n",
    "cc_index = np.where(cap_label.Labels == cc)\n",
    "fmri_cc_selected = fmri_all_selected[cc_index[0]]"
   ]
  },
  {
   "cell_type": "code",
   "execution_count": 115,
   "metadata": {},
   "outputs": [
    {
     "ename": "IndexError",
     "evalue": "index 3941 is out of bounds for axis 0 with size 335",
     "output_type": "error",
     "traceback": [
      "\u001b[0;31m---------------------------------------------------------------------------\u001b[0m",
      "\u001b[0;31mIndexError\u001b[0m                                Traceback (most recent call last)",
      "\u001b[0;32m<ipython-input-115-4495cf142337>\u001b[0m in \u001b[0;36m<module>\u001b[0;34m\u001b[0m\n\u001b[0;32m----> 1\u001b[0;31m \u001b[0mfmri_cc_selected\u001b[0m\u001b[0;34m[\u001b[0m\u001b[0mtr\u001b[0m\u001b[0;34m]\u001b[0m\u001b[0;34m\u001b[0m\u001b[0;34m\u001b[0m\u001b[0m\n\u001b[0m",
      "\u001b[0;31mIndexError\u001b[0m: index 3941 is out of bounds for axis 0 with size 335"
     ]
    }
   ],
   "source": [
    "fmri_cc_selected[tr]"
   ]
  },
  {
   "cell_type": "code",
   "execution_count": 114,
   "metadata": {},
   "outputs": [
    {
     "data": {
      "text/plain": [
       "(array([ 156,  163,  170,  178,  185,  222,  225,  240,  245,  246,  253,\n",
       "         254,  260,  271,  301,  307,  317,  325,  326,  345,  352,  354,\n",
       "         360,  363,  364,  370,  372,  389,  393,  401,  413,  414,  434,\n",
       "         435,  442,  455,  465,  583,  584,  585,  627,  648,  656,  657,\n",
       "         670,  708,  710,  712,  713,  714,  739,  743,  750,  761,  762,\n",
       "         767,  770,  771,  778,  790,  822,  823,  824,  837,  840,  843,\n",
       "         847,  848,  850,  865,  866,  915,  916,  917,  918,  920,  925,\n",
       "         929,  930,  933,  934,  935,  938,  939,  940,  946,  958,  964,\n",
       "        1013, 1015, 1016, 1023, 1033, 1034, 1035, 1036, 1040, 1045, 1046,\n",
       "        1052, 1057, 1068, 1069, 1071, 1089, 1096, 1097, 1098, 1099, 1100,\n",
       "        1102, 1103, 1118, 1124, 1127, 1139, 1156, 1160, 1218, 1222, 1225,\n",
       "        1231, 1232, 1242, 1248, 1249, 1573, 1574, 1578, 1600, 1601, 1616,\n",
       "        1631, 1632, 1637, 1643, 1656, 1657, 1659, 1661, 1664, 1672, 1673,\n",
       "        1685, 1697, 1747, 1758, 1765, 1771, 1776, 1781, 1782, 1785, 1808,\n",
       "        1825, 1860, 1867, 1868, 1869, 1882, 1888, 1889, 1890, 1892, 1893,\n",
       "        1894, 1895, 1897, 1898, 1906, 1913, 1919, 1920, 1921, 1923, 1926,\n",
       "        1928, 1929, 1935, 1941, 1945, 1951, 1952, 1957, 1958, 1961, 1966,\n",
       "        1974, 1975, 1978, 1979, 1980, 1981, 1989, 2001, 2024, 2028, 2033,\n",
       "        2035, 2036, 2043, 2046, 2048, 2049, 2050, 2051, 2053, 2054, 2058,\n",
       "        2059, 2068, 2069, 2070, 2078, 2121, 2143, 2146, 2156, 2158, 2164,\n",
       "        2169, 2177, 2182, 2186, 2193, 2212, 2213, 2214, 2231, 2232, 2252,\n",
       "        2254, 2257, 2258, 2259, 2260, 2261, 2262, 2636, 2640, 2642, 2644,\n",
       "        2649, 2653, 2655, 2658, 2659, 2664, 2671, 2694, 2699, 2700, 2702,\n",
       "        2706, 2709, 2710, 2723, 2724, 2737, 2738, 2750, 2751, 2752, 2756,\n",
       "        2759, 2770, 2773, 2816, 2817, 2828, 2838, 2839, 2840, 2841, 2842,\n",
       "        2845, 2850, 2856, 2861, 2862, 2885, 2890, 2905, 2928, 2944, 2945,\n",
       "        2950, 2951, 2955, 2956, 2957, 2959, 2962, 2969, 2970, 2988, 3021,\n",
       "        3024, 3025, 3026, 3029, 3037, 3038, 3039, 3048, 3061, 3066, 3067,\n",
       "        3071, 3099, 3237, 3274, 3294, 3296, 3332, 3337, 3738, 3743, 3749,\n",
       "        3756, 3757, 3761, 3767, 3770, 3771, 3772, 3792, 3832, 3855, 3865,\n",
       "        3866, 3867, 3896, 3899, 3941]),)"
      ]
     },
     "execution_count": 114,
     "metadata": {},
     "output_type": "execute_result"
    }
   ],
   "source": [
    "cc_index"
   ]
  },
  {
   "cell_type": "code",
   "execution_count": 92,
   "metadata": {},
   "outputs": [
    {
     "data": {
      "text/plain": [
       "2.5"
      ]
     },
     "execution_count": 92,
     "metadata": {},
     "output_type": "execute_result"
    }
   ],
   "source": [
    "(5/2) "
   ]
  },
  {
   "cell_type": "code",
   "execution_count": 95,
   "metadata": {},
   "outputs": [
    {
     "data": {
      "text/plain": [
       "(array([18942, 20825, 20826, 20865, 20866]),)"
      ]
     },
     "execution_count": 95,
     "metadata": {},
     "output_type": "execute_result"
    }
   ],
   "source": [
    "np.where(cc_se==0)"
   ]
  },
  {
   "cell_type": "code",
   "execution_count": null,
   "metadata": {},
   "outputs": [],
   "source": []
  }
 ],
 "metadata": {
  "kernelspec": {
   "display_name": "Python 3",
   "language": "python",
   "name": "python3"
  },
  "language_info": {
   "codemirror_mode": {
    "name": "ipython",
    "version": 3
   },
   "file_extension": ".py",
   "mimetype": "text/x-python",
   "name": "python",
   "nbconvert_exporter": "python",
   "pygments_lexer": "ipython3",
   "version": "3.7.4"
  }
 },
 "nbformat": 4,
 "nbformat_minor": 2
}
